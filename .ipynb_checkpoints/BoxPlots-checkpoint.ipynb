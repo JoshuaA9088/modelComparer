{
 "cells": [
  {
   "cell_type": "code",
   "execution_count": 3,
   "metadata": {},
   "outputs": [],
   "source": [
    "from bokeh.sampledata.autompg import autompg as df\n",
    "from bokeh.plotting import figure, show, output_file\n",
    "import numpy as np\n",
    "import holoviews as hv\n",
    "import statistics "
   ]
  },
  {
   "cell_type": "code",
   "execution_count": 4,
   "metadata": {},
   "outputs": [
    {
     "name": "stdout",
     "output_type": "stream",
     "text": [
      "720\n",
      "720\n",
      "149.40214188558343\n",
      "43.829214001622255\n"
     ]
    }
   ],
   "source": [
    "cvDetector = []\n",
    "dnnDetector = []\n",
    "points = 0\n",
    "cats = [cvDetector, dnnDetector]\n",
    "catNames = [\"cvDetector\", \"dnnDetector\"]\n",
    "\n",
    "f = open(\"data.txt\", \"r\")\n",
    "\n",
    "for i in f.readlines():\n",
    "    if i.split()[1] != \"None\" and i.split()[2] != \"None\":\n",
    "        cvDetector.append(float(i.split()[1]))\n",
    "        dnnDetector.append(float(i.split()[2]))\n",
    "        points += 1\n",
    "        \n",
    "print(len(cvDetector))\n",
    "print(len(dnnDetector))\n",
    "print(max(cvDetector))\n",
    "print(max(dnnDetector))"
   ]
  },
  {
   "cell_type": "code",
   "execution_count": 5,
   "metadata": {},
   "outputs": [
    {
     "data": {
      "application/javascript": [
       "\n",
       "// Ugly hack - see HoloViews #2574 for more information\n",
       "if (!(document.getElementById('1279')) && !(document.getElementById('_anim_imgNone'))) {\n",
       "  console.log(\"Creating DOM nodes dynamically for assumed nbconvert export. To generate clean HTML output set HV_DOC_HTML as an environment variable.\")\n",
       "  var htmlObject = document.createElement('div');\n",
       "  htmlObject.innerHTML = `<div id='1279' style='display: table; margin: 0 auto;'>\n",
       "\n",
       "\n",
       "\n",
       "\n",
       "\n",
       "  <div class=\"bk-root\" id=\"cd5ce397-8e57-431d-b2da-eee94311196e\"></div>\n",
       "</div>`;\n",
       "  var scriptTags = document.getElementsByTagName('script');\n",
       "  var parentTag = scriptTags[scriptTags.length-1].parentNode;\n",
       "  parentTag.append(htmlObject)\n",
       "}\n",
       "(function(root) {\n",
       "  function embed_document(root) {\n",
       "    \n",
       "  var docs_json = {\"4d6ad38d-e21a-45e4-aedc-a920708e5f9b\":{\"roots\":{\"references\":[{\"attributes\":{\"below\":[{\"id\":\"1287\",\"type\":\"CategoricalAxis\"}],\"left\":[{\"id\":\"1291\",\"type\":\"LinearAxis\"}],\"min_border_bottom\":10,\"min_border_left\":10,\"min_border_right\":10,\"min_border_top\":10,\"plot_height\":300,\"plot_width\":800,\"renderers\":[{\"id\":\"1287\",\"type\":\"CategoricalAxis\"},{\"id\":\"1290\",\"type\":\"Grid\"},{\"id\":\"1291\",\"type\":\"LinearAxis\"},{\"id\":\"1295\",\"type\":\"Grid\"},{\"id\":\"1304\",\"type\":\"BoxAnnotation\"},{\"id\":\"1314\",\"type\":\"GlyphRenderer\"},{\"id\":\"1320\",\"type\":\"GlyphRenderer\"},{\"id\":\"1326\",\"type\":\"GlyphRenderer\"},{\"id\":\"1332\",\"type\":\"GlyphRenderer\"},{\"id\":\"1338\",\"type\":\"GlyphRenderer\"},{\"id\":\"1344\",\"type\":\"GlyphRenderer\"},{\"id\":\"1350\",\"type\":\"GlyphRenderer\"}],\"title\":{\"id\":\"1278\",\"type\":\"Title\"},\"toolbar\":{\"id\":\"1301\",\"type\":\"Toolbar\"},\"x_range\":{\"id\":\"1276\",\"type\":\"FactorRange\"},\"x_scale\":{\"id\":\"1283\",\"type\":\"CategoricalScale\"},\"y_range\":{\"id\":\"1277\",\"type\":\"Range1d\"},\"y_scale\":{\"id\":\"1285\",\"type\":\"LinearScale\"}},\"id\":\"1279\",\"subtype\":\"Figure\",\"type\":\"Plot\"},{\"attributes\":{\"fill_alpha\":{\"value\":0.1},\"fill_color\":{\"value\":\"black\"},\"height\":{\"units\":\"data\",\"value\":0.001},\"line_alpha\":{\"value\":0.1},\"line_color\":{\"value\":\"black\"},\"width\":{\"units\":\"data\",\"value\":0.2},\"x\":{\"field\":\"index\"},\"y\":{\"field\":\"mpg\"}},\"id\":\"1325\",\"type\":\"Rect\"},{\"attributes\":{},\"id\":\"1367\",\"type\":\"UnionRenderers\"},{\"attributes\":{\"factors\":[[\"0\",\"7.8102\"],[\"5.3852\",\"8.0623\"]],\"palette\":[\"lightgray\",\"lightgray\"]},\"id\":\"1309\",\"type\":\"CategoricalColorMapper\"},{\"attributes\":{},\"id\":\"1375\",\"type\":\"UnionRenderers\"},{\"attributes\":{\"fill_color\":{\"value\":\"black\"},\"height\":{\"units\":\"data\",\"value\":0.001},\"width\":{\"units\":\"data\",\"value\":0.2},\"x\":{\"field\":\"index\"},\"y\":{\"field\":\"mpg\"}},\"id\":\"1324\",\"type\":\"Rect\"},{\"attributes\":{\"callback\":null,\"data\":{\"bottom\":{\"__ndarray__\":\"AAAAAAAAFEAAAAAAAAAAQA==\",\"dtype\":\"float64\",\"shape\":[2]},\"index\":[[\"0\",\"7.8102\"],[\"5.3852\",\"8.0623\"]],\"top\":{\"__ndarray__\":\"AAAAAAAAFEAAAAAAAAAAQA==\",\"dtype\":\"float64\",\"shape\":[2]}},\"selected\":{\"id\":\"1374\",\"type\":\"Selection\"},\"selection_policy\":{\"id\":\"1375\",\"type\":\"UnionRenderers\"}},\"id\":\"1346\",\"type\":\"ColumnDataSource\"},{\"attributes\":{},\"id\":\"1288\",\"type\":\"CategoricalTicker\"},{\"attributes\":{\"bottom\":{\"field\":\"bottom\"},\"fill_alpha\":{\"value\":0.1},\"fill_color\":{\"field\":\"index\",\"transform\":{\"id\":\"1309\",\"type\":\"CategoricalColorMapper\"}},\"line_alpha\":{\"value\":0.1},\"line_color\":{\"value\":\"black\"},\"top\":{\"field\":\"top\"},\"width\":{\"value\":0.7},\"x\":{\"field\":\"index\"}},\"id\":\"1343\",\"type\":\"VBar\"},{\"attributes\":{\"bottom_units\":\"screen\",\"fill_alpha\":{\"value\":0.5},\"fill_color\":{\"value\":\"lightgrey\"},\"left_units\":\"screen\",\"level\":\"overlay\",\"line_alpha\":{\"value\":1.0},\"line_color\":{\"value\":\"black\"},\"line_dash\":[4,4],\"line_width\":{\"value\":2},\"plot\":null,\"render_mode\":\"css\",\"right_units\":\"screen\",\"top_units\":\"screen\"},\"id\":\"1304\",\"type\":\"BoxAnnotation\"},{\"attributes\":{\"overlay\":{\"id\":\"1304\",\"type\":\"BoxAnnotation\"}},\"id\":\"1299\",\"type\":\"BoxZoomTool\"},{\"attributes\":{},\"id\":\"1363\",\"type\":\"UnionRenderers\"},{\"attributes\":{},\"id\":\"1365\",\"type\":\"UnionRenderers\"},{\"attributes\":{\"callback\":null,\"factors\":[[\"0\",\"7.8102\"],[\"5.3852\",\"8.0623\"]]},\"id\":\"1276\",\"type\":\"FactorRange\"},{\"attributes\":{\"data_source\":{\"id\":\"1340\",\"type\":\"ColumnDataSource\"},\"glyph\":{\"id\":\"1342\",\"type\":\"VBar\"},\"hover_glyph\":null,\"muted_glyph\":null,\"nonselection_glyph\":{\"id\":\"1343\",\"type\":\"VBar\"},\"selection_glyph\":null,\"view\":{\"id\":\"1345\",\"type\":\"CDSView\"}},\"id\":\"1344\",\"type\":\"GlyphRenderer\"},{\"attributes\":{\"data_source\":{\"id\":\"1322\",\"type\":\"ColumnDataSource\"},\"glyph\":{\"id\":\"1324\",\"type\":\"Rect\"},\"hover_glyph\":null,\"muted_glyph\":null,\"nonselection_glyph\":{\"id\":\"1325\",\"type\":\"Rect\"},\"selection_glyph\":null,\"view\":{\"id\":\"1327\",\"type\":\"CDSView\"}},\"id\":\"1326\",\"type\":\"GlyphRenderer\"},{\"attributes\":{},\"id\":\"1298\",\"type\":\"WheelZoomTool\"},{\"attributes\":{\"callback\":null,\"data\":{\"index\":{\"__ndarray__\":\"\",\"dtype\":\"float64\",\"shape\":[0]},\"mpg\":{\"__ndarray__\":\"\",\"dtype\":\"float64\",\"shape\":[0]}},\"selected\":{\"id\":\"1362\",\"type\":\"Selection\"},\"selection_policy\":{\"id\":\"1363\",\"type\":\"UnionRenderers\"}},\"id\":\"1310\",\"type\":\"ColumnDataSource\"},{\"attributes\":{\"callback\":null,\"end\":5.0,\"reset_end\":5.0,\"reset_start\":2.0,\"start\":2.0},\"id\":\"1277\",\"type\":\"Range1d\"},{\"attributes\":{},\"id\":\"1297\",\"type\":\"PanTool\"},{\"attributes\":{\"source\":{\"id\":\"1322\",\"type\":\"ColumnDataSource\"}},\"id\":\"1327\",\"type\":\"CDSView\"},{\"attributes\":{},\"id\":\"1300\",\"type\":\"ResetTool\"},{\"attributes\":{\"source\":{\"id\":\"1340\",\"type\":\"ColumnDataSource\"}},\"id\":\"1345\",\"type\":\"CDSView\"},{\"attributes\":{},\"id\":\"1285\",\"type\":\"LinearScale\"},{\"attributes\":{\"callback\":null,\"data\":{\"index\":[[\"0\",\"7.8102\"],[\"5.3852\",\"8.0623\"]],\"mpg\":{\"__ndarray__\":\"AAAAAAAAFEAAAAAAAAAAQA==\",\"dtype\":\"float64\",\"shape\":[2]}},\"selected\":{\"id\":\"1364\",\"type\":\"Selection\"},\"selection_policy\":{\"id\":\"1365\",\"type\":\"UnionRenderers\"}},\"id\":\"1316\",\"type\":\"ColumnDataSource\"},{\"attributes\":{\"callback\":null,\"data\":{\"x0\":[[\"0\",\"7.8102\"],[\"5.3852\",\"8.0623\"]],\"x1\":[[\"0\",\"7.8102\"],[\"5.3852\",\"8.0623\"]],\"y0\":{\"__ndarray__\":\"AAAAAAAAFEAAAAAAAAAAQA==\",\"dtype\":\"float64\",\"shape\":[2]},\"y1\":{\"__ndarray__\":\"AAAAAAAAFEAAAAAAAAAAQA==\",\"dtype\":\"float64\",\"shape\":[2]}},\"selected\":{\"id\":\"1370\",\"type\":\"Selection\"},\"selection_policy\":{\"id\":\"1371\",\"type\":\"UnionRenderers\"}},\"id\":\"1334\",\"type\":\"ColumnDataSource\"},{\"attributes\":{},\"id\":\"1368\",\"type\":\"Selection\"},{\"attributes\":{\"grid_line_color\":{\"value\":null},\"plot\":{\"id\":\"1279\",\"subtype\":\"Figure\",\"type\":\"Plot\"},\"ticker\":{\"id\":\"1288\",\"type\":\"CategoricalTicker\"}},\"id\":\"1290\",\"type\":\"Grid\"},{\"attributes\":{\"plot\":null,\"text\":\"CV v. DNN Object Detector\",\"text_color\":{\"value\":\"black\"},\"text_font_size\":{\"value\":\"12pt\"}},\"id\":\"1278\",\"type\":\"Title\"},{\"attributes\":{\"fill_color\":{\"value\":\"black\"},\"x\":{\"field\":\"index\"},\"y\":{\"field\":\"mpg\"}},\"id\":\"1312\",\"type\":\"Circle\"},{\"attributes\":{\"bottom\":{\"field\":\"bottom\"},\"fill_color\":{\"field\":\"index\",\"transform\":{\"id\":\"1309\",\"type\":\"CategoricalColorMapper\"}},\"top\":{\"field\":\"top\"},\"width\":{\"value\":0.7},\"x\":{\"field\":\"index\"}},\"id\":\"1348\",\"type\":\"VBar\"},{\"attributes\":{\"fill_alpha\":{\"value\":0.1},\"fill_color\":{\"value\":\"black\"},\"line_alpha\":{\"value\":0.1},\"line_color\":{\"value\":\"black\"},\"x\":{\"field\":\"index\"},\"y\":{\"field\":\"mpg\"}},\"id\":\"1313\",\"type\":\"Circle\"},{\"attributes\":{\"x0\":{\"field\":\"x0\"},\"x1\":{\"field\":\"x1\"},\"y0\":{\"field\":\"y0\"},\"y1\":{\"field\":\"y1\"}},\"id\":\"1330\",\"type\":\"Segment\"},{\"attributes\":{},\"id\":\"1283\",\"type\":\"CategoricalScale\"},{\"attributes\":{\"bottom\":{\"field\":\"bottom\"},\"fill_alpha\":{\"value\":0.1},\"fill_color\":{\"field\":\"index\",\"transform\":{\"id\":\"1309\",\"type\":\"CategoricalColorMapper\"}},\"line_alpha\":{\"value\":0.1},\"line_color\":{\"value\":\"black\"},\"top\":{\"field\":\"top\"},\"width\":{\"value\":0.7},\"x\":{\"field\":\"index\"}},\"id\":\"1349\",\"type\":\"VBar\"},{\"attributes\":{},\"id\":\"1366\",\"type\":\"Selection\"},{\"attributes\":{\"data_source\":{\"id\":\"1310\",\"type\":\"ColumnDataSource\"},\"glyph\":{\"id\":\"1312\",\"type\":\"Circle\"},\"hover_glyph\":null,\"muted_glyph\":null,\"nonselection_glyph\":{\"id\":\"1313\",\"type\":\"Circle\"},\"selection_glyph\":null,\"view\":{\"id\":\"1315\",\"type\":\"CDSView\"}},\"id\":\"1314\",\"type\":\"GlyphRenderer\"},{\"attributes\":{\"line_alpha\":{\"value\":0.1},\"line_color\":{\"value\":\"black\"},\"x0\":{\"field\":\"x0\"},\"x1\":{\"field\":\"x1\"},\"y0\":{\"field\":\"y0\"},\"y1\":{\"field\":\"y1\"}},\"id\":\"1331\",\"type\":\"Segment\"},{\"attributes\":{\"data_source\":{\"id\":\"1346\",\"type\":\"ColumnDataSource\"},\"glyph\":{\"id\":\"1348\",\"type\":\"VBar\"},\"hover_glyph\":null,\"muted_glyph\":null,\"nonselection_glyph\":{\"id\":\"1349\",\"type\":\"VBar\"},\"selection_glyph\":null,\"view\":{\"id\":\"1351\",\"type\":\"CDSView\"}},\"id\":\"1350\",\"type\":\"GlyphRenderer\"},{\"attributes\":{\"source\":{\"id\":\"1310\",\"type\":\"ColumnDataSource\"}},\"id\":\"1315\",\"type\":\"CDSView\"},{\"attributes\":{\"data_source\":{\"id\":\"1328\",\"type\":\"ColumnDataSource\"},\"glyph\":{\"id\":\"1330\",\"type\":\"Segment\"},\"hover_glyph\":null,\"muted_glyph\":null,\"nonselection_glyph\":{\"id\":\"1331\",\"type\":\"Segment\"},\"selection_glyph\":null,\"view\":{\"id\":\"1333\",\"type\":\"CDSView\"}},\"id\":\"1332\",\"type\":\"GlyphRenderer\"},{\"attributes\":{\"source\":{\"id\":\"1346\",\"type\":\"ColumnDataSource\"}},\"id\":\"1351\",\"type\":\"CDSView\"},{\"attributes\":{\"source\":{\"id\":\"1328\",\"type\":\"ColumnDataSource\"}},\"id\":\"1333\",\"type\":\"CDSView\"},{\"attributes\":{},\"id\":\"1364\",\"type\":\"Selection\"},{\"attributes\":{},\"id\":\"1352\",\"type\":\"CategoricalTickFormatter\"},{\"attributes\":{\"callback\":null,\"data\":{\"index\":[[\"0\",\"7.8102\"],[\"5.3852\",\"8.0623\"]],\"mpg\":{\"__ndarray__\":\"AAAAAAAAFEAAAAAAAAAAQA==\",\"dtype\":\"float64\",\"shape\":[2]}},\"selected\":{\"id\":\"1366\",\"type\":\"Selection\"},\"selection_policy\":{\"id\":\"1367\",\"type\":\"UnionRenderers\"}},\"id\":\"1322\",\"type\":\"ColumnDataSource\"},{\"attributes\":{},\"id\":\"1354\",\"type\":\"BasicTickFormatter\"},{\"attributes\":{\"callback\":null,\"data\":{\"bottom\":{\"__ndarray__\":\"AAAAAAAAFEAAAAAAAAAAQA==\",\"dtype\":\"float64\",\"shape\":[2]},\"index\":[[\"0\",\"7.8102\"],[\"5.3852\",\"8.0623\"]],\"top\":{\"__ndarray__\":\"AAAAAAAAFEAAAAAAAAAAQA==\",\"dtype\":\"float64\",\"shape\":[2]}},\"selected\":{\"id\":\"1372\",\"type\":\"Selection\"},\"selection_policy\":{\"id\":\"1373\",\"type\":\"UnionRenderers\"}},\"id\":\"1340\",\"type\":\"ColumnDataSource\"},{\"attributes\":{\"axis_label\":\"cvDetector, dnnDetector\",\"bounds\":\"auto\",\"formatter\":{\"id\":\"1352\",\"type\":\"CategoricalTickFormatter\"},\"major_label_orientation\":\"horizontal\",\"plot\":{\"id\":\"1279\",\"subtype\":\"Figure\",\"type\":\"Plot\"},\"ticker\":{\"id\":\"1288\",\"type\":\"CategoricalTicker\"}},\"id\":\"1287\",\"type\":\"CategoricalAxis\"},{\"attributes\":{},\"id\":\"1369\",\"type\":\"UnionRenderers\"},{\"attributes\":{\"fill_color\":{\"value\":\"black\"},\"height\":{\"units\":\"data\",\"value\":0.001},\"width\":{\"units\":\"data\",\"value\":0.2},\"x\":{\"field\":\"index\"},\"y\":{\"field\":\"mpg\"}},\"id\":\"1318\",\"type\":\"Rect\"},{\"attributes\":{\"axis_label\":\"mpg\",\"bounds\":\"auto\",\"formatter\":{\"id\":\"1354\",\"type\":\"BasicTickFormatter\"},\"major_label_orientation\":\"horizontal\",\"plot\":{\"id\":\"1279\",\"subtype\":\"Figure\",\"type\":\"Plot\"},\"ticker\":{\"id\":\"1292\",\"type\":\"BasicTicker\"}},\"id\":\"1291\",\"type\":\"LinearAxis\"},{\"attributes\":{},\"id\":\"1370\",\"type\":\"Selection\"},{\"attributes\":{\"x0\":{\"field\":\"x0\"},\"x1\":{\"field\":\"x1\"},\"y0\":{\"field\":\"y0\"},\"y1\":{\"field\":\"y1\"}},\"id\":\"1336\",\"type\":\"Segment\"},{\"attributes\":{\"fill_alpha\":{\"value\":0.1},\"fill_color\":{\"value\":\"black\"},\"height\":{\"units\":\"data\",\"value\":0.001},\"line_alpha\":{\"value\":0.1},\"line_color\":{\"value\":\"black\"},\"width\":{\"units\":\"data\",\"value\":0.2},\"x\":{\"field\":\"index\"},\"y\":{\"field\":\"mpg\"}},\"id\":\"1319\",\"type\":\"Rect\"},{\"attributes\":{\"dimension\":1,\"grid_line_color\":{\"value\":null},\"plot\":{\"id\":\"1279\",\"subtype\":\"Figure\",\"type\":\"Plot\"},\"ticker\":{\"id\":\"1292\",\"type\":\"BasicTicker\"}},\"id\":\"1295\",\"type\":\"Grid\"},{\"attributes\":{},\"id\":\"1371\",\"type\":\"UnionRenderers\"},{\"attributes\":{\"line_alpha\":{\"value\":0.1},\"line_color\":{\"value\":\"black\"},\"x0\":{\"field\":\"x0\"},\"x1\":{\"field\":\"x1\"},\"y0\":{\"field\":\"y0\"},\"y1\":{\"field\":\"y1\"}},\"id\":\"1337\",\"type\":\"Segment\"},{\"attributes\":{\"data_source\":{\"id\":\"1316\",\"type\":\"ColumnDataSource\"},\"glyph\":{\"id\":\"1318\",\"type\":\"Rect\"},\"hover_glyph\":null,\"muted_glyph\":null,\"nonselection_glyph\":{\"id\":\"1319\",\"type\":\"Rect\"},\"selection_glyph\":null,\"view\":{\"id\":\"1321\",\"type\":\"CDSView\"}},\"id\":\"1320\",\"type\":\"GlyphRenderer\"},{\"attributes\":{},\"id\":\"1372\",\"type\":\"Selection\"},{\"attributes\":{\"active_drag\":\"auto\",\"active_inspect\":\"auto\",\"active_multi\":null,\"active_scroll\":\"auto\",\"active_tap\":\"auto\",\"tools\":[{\"id\":\"1296\",\"type\":\"SaveTool\"},{\"id\":\"1297\",\"type\":\"PanTool\"},{\"id\":\"1298\",\"type\":\"WheelZoomTool\"},{\"id\":\"1299\",\"type\":\"BoxZoomTool\"},{\"id\":\"1300\",\"type\":\"ResetTool\"}]},\"id\":\"1301\",\"type\":\"Toolbar\"},{\"attributes\":{\"data_source\":{\"id\":\"1334\",\"type\":\"ColumnDataSource\"},\"glyph\":{\"id\":\"1336\",\"type\":\"Segment\"},\"hover_glyph\":null,\"muted_glyph\":null,\"nonselection_glyph\":{\"id\":\"1337\",\"type\":\"Segment\"},\"selection_glyph\":null,\"view\":{\"id\":\"1339\",\"type\":\"CDSView\"}},\"id\":\"1338\",\"type\":\"GlyphRenderer\"},{\"attributes\":{\"source\":{\"id\":\"1316\",\"type\":\"ColumnDataSource\"}},\"id\":\"1321\",\"type\":\"CDSView\"},{\"attributes\":{\"callback\":null,\"data\":{\"x0\":[[\"0\",\"7.8102\"],[\"5.3852\",\"8.0623\"]],\"x1\":[[\"0\",\"7.8102\"],[\"5.3852\",\"8.0623\"]],\"y0\":{\"__ndarray__\":\"AAAAAAAAFEAAAAAAAAAAQA==\",\"dtype\":\"float64\",\"shape\":[2]},\"y1\":{\"__ndarray__\":\"AAAAAAAAFEAAAAAAAAAAQA==\",\"dtype\":\"float64\",\"shape\":[2]}},\"selected\":{\"id\":\"1368\",\"type\":\"Selection\"},\"selection_policy\":{\"id\":\"1369\",\"type\":\"UnionRenderers\"}},\"id\":\"1328\",\"type\":\"ColumnDataSource\"},{\"attributes\":{},\"id\":\"1373\",\"type\":\"UnionRenderers\"},{\"attributes\":{\"source\":{\"id\":\"1334\",\"type\":\"ColumnDataSource\"}},\"id\":\"1339\",\"type\":\"CDSView\"},{\"attributes\":{\"bottom\":{\"field\":\"bottom\"},\"fill_color\":{\"field\":\"index\",\"transform\":{\"id\":\"1309\",\"type\":\"CategoricalColorMapper\"}},\"top\":{\"field\":\"top\"},\"width\":{\"value\":0.7},\"x\":{\"field\":\"index\"}},\"id\":\"1342\",\"type\":\"VBar\"},{\"attributes\":{},\"id\":\"1374\",\"type\":\"Selection\"},{\"attributes\":{},\"id\":\"1292\",\"type\":\"BasicTicker\"},{\"attributes\":{},\"id\":\"1296\",\"type\":\"SaveTool\"},{\"attributes\":{},\"id\":\"1362\",\"type\":\"Selection\"}],\"root_ids\":[\"1279\"]},\"title\":\"Bokeh Application\",\"version\":\"1.0.1\"}};\n",
       "  var render_items = [{\"docid\":\"4d6ad38d-e21a-45e4-aedc-a920708e5f9b\",\"roots\":{\"1279\":\"cd5ce397-8e57-431d-b2da-eee94311196e\"}}];\n",
       "  root.Bokeh.embed.embed_items_notebook(docs_json, render_items);\n",
       "\n",
       "  }\n",
       "  if (root.Bokeh !== undefined) {\n",
       "    embed_document(root);\n",
       "  } else {\n",
       "    var attempts = 0;\n",
       "    var timer = setInterval(function(root) {\n",
       "      if (root.Bokeh !== undefined) {\n",
       "        embed_document(root);\n",
       "        clearInterval(timer);\n",
       "      }\n",
       "      attempts++;\n",
       "      if (attempts > 100) {\n",
       "        console.log(\"Bokeh: ERROR: Unable to run BokehJS code because BokehJS library is missing\");\n",
       "        clearInterval(timer);\n",
       "      }\n",
       "    }, 10, root)\n",
       "  }\n",
       "})(window);"
      ],
      "application/vnd.holoviews_exec.v0+json": "",
      "text/html": [
       "<div id='1279' style='display: table; margin: 0 auto;'>\n",
       "\n",
       "\n",
       "\n",
       "\n",
       "\n",
       "  <div class=\"bk-root\" id=\"cd5ce397-8e57-431d-b2da-eee94311196e\"></div>\n",
       "</div>"
      ],
      "text/plain": [
       ":BoxWhisker   [cvDetector,dnnDetector]   (mpg)"
      ]
     },
     "execution_count": 5,
     "metadata": {
      "application/vnd.holoviews_exec.v0+json": {
       "id": "1279"
      }
     },
     "output_type": "execute_result"
    }
   ],
   "source": [
    "title = \"CV v. DNN Object Detector\"\n",
    "box = hv.BoxWhisker([cvDetector, dnnDetector], ['cvDetector', 'dnnDetector'], 'mpg', label=title)\n",
    "box.options(show_legend=False, width=800)"
   ]
  }
 ],
 "metadata": {
  "kernelspec": {
   "display_name": "Python 3",
   "language": "python",
   "name": "python3"
  },
  "language_info": {
   "codemirror_mode": {
    "name": "ipython",
    "version": 3
   },
   "file_extension": ".py",
   "mimetype": "text/x-python",
   "name": "python",
   "nbconvert_exporter": "python",
   "pygments_lexer": "ipython3",
   "version": "3.6.0"
  }
 },
 "nbformat": 4,
 "nbformat_minor": 2
}
